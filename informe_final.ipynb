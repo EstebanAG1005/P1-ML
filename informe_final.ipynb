{
 "cells": [
  {
   "cell_type": "markdown",
   "metadata": {},
   "source": [
    "## Ejercicio 1\n",
    "\n",
    "Configuramos VS Code para un correcto orden del proyecto\n",
    "\n"
   ]
  },
  {
   "cell_type": "markdown",
   "metadata": {},
   "source": [
    "## Ejercicio 2 (EDA)\n",
    "\n",
    "El Análisis Exploratorio de Datos (EDA) realizado en el proyecto abarcó varios aspectos clave para entender y preparar los datos. A continuación, se presenta un resumen general de los pasos y análisis efectuados:\n",
    "\n",
    "Configuración y Carga de Datos:\n",
    "- Se importaron las bibliotecas necesarias, como pandas, numpy, matplotlib, seaborn, entre otras.\n",
    "- Se cargaron los datos de entrenamiento y prueba desde archivos CSV.\n",
    "\n",
    "Descripción General de los Datos:\n",
    "- Se realizó una descripción general de las variables, incluyendo un resumen estadístico para todas las columnas, tanto numéricas como categóricas.\n",
    "- Se analizó la presencia de valores nulos en el conjunto de datos, utilizando tanto un análisis numérico como visual mediante un mapa de calor.\n",
    "\n",
    "Visualización de Distribuciones:\n",
    "- Se generaron histogramas para visualizar la distribución de las variables numéricas. Esto ayudó a identificar características como la asimetría y la presencia de posibles valores atípicos.\n",
    "- Se realizaron gráficos de conteo para las variables categóricas, proporcionando una visión de la frecuencia de cada categoría.\n",
    "\n",
    "Análisis de Correlación:\n",
    "- Se calculó y visualizó la matriz de correlación entre las variables numéricas, utilizando un mapa de calor para identificar relaciones fuertes o débiles entre ellas.\n",
    "- Este análisis preliminar permitió identificar la calidad de los datos, entender sus características básicas y establecer una base para futuras etapas del análisis, como la limpieza de datos y la ingeniería de características."
   ]
  }
 ],
 "metadata": {
  "language_info": {
   "name": "python"
  }
 },
 "nbformat": 4,
 "nbformat_minor": 2
}
